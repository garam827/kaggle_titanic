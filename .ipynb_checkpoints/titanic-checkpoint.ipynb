{
 "cells": [
  {
   "cell_type": "code",
   "execution_count": null,
   "metadata": {},
   "outputs": [],
   "source": []
  },
  {
   "cell_type": "code",
   "execution_count": null,
   "metadata": {},
   "outputs": [],
   "source": []
  },
  {
   "cell_type": "code",
   "execution_count": 2,
   "metadata": {},
   "outputs": [],
   "source": [
    "#%pip install pandas\n",
    "#%pip install numpy\n",
    "#%pip install matplot\n",
    "#%pip install seaborn\n",
    "\n",
    "import pandas as pd\n",
    "import numpy as np\n",
    "import matplotlib.pyplot as plt\n",
    "\n",
    "#matplotlib inline\n",
    "import seaborn as sns\n",
    "sns.set() # setting seaborn default for plots\n",
    "\n",
    "def read_file():\n",
    "    train=pd.read_csv('train.csv')\n",
    "    test=pd.read_csv('test.csv')\n",
    "    return train,test\n",
    "\n",
    "def out_file(x,y):\n",
    "    print(x)\n",
    "    print(y)\n",
    "\n",
    "def shape_file(x,y):\n",
    "    print(x.shape)\n",
    "    print(y.shape)\n",
    "\n",
    "def info_file(x,y):\n",
    "    print(x.info())\n",
    "    print(y.info())\n",
    "\n",
    "def null_file(x,y):\n",
    "    print(x.isnull().sum())\n",
    "    print(y.isnull().sum())\n",
    "\n",
    "def pie_chart(train,feature):\n",
    "    feature_ratio = train[feature].value_counts(sort=False)\n",
    "    feature_size = feature_ratio.size\n",
    "    feature_index = feature_ratio.index\n",
    "    survived = train[train['Survived'] == 1][feature].value_counts()\n",
    "    dead = train[train['Survived'] == 0][feature].value_counts()\n",
    "    \n",
    "    plt.plot(aspect='auto')\n",
    "    plt.pie(feature_ratio, labels=feature_index, autopct='%1.1f%%')\n",
    "    plt.title(feature + '\\'s ratio in total')\n",
    "    plt.show()\n",
    "    \n",
    "    for i, index in enumerate(feature_index):\n",
    "        plt.subplot(1, feature_size + 1, i + 1, aspect='equal')\n",
    "        plt.pie([survived[index], dead[index]], labels=['Survivied', 'Dead'], autopct='%1.1f%%')\n",
    "        plt.title(str(index) + '\\'s ratio')\n",
    "    \n",
    "    plt.show()\n",
    "\n",
    "def main():\n",
    "\n",
    "    train,test=read_file()\n",
    "    #out_file(train,test)\n",
    "    #shape_file(train,test)\n",
    "    #info_file(train,test)\n",
    "    #null_file(train,test)\n",
    "    #pie_chart(train,'Sex')\n",
    "\n",
    "\n",
    "if __name__=='__main__':\n",
    "    main()"
   ]
  },
  {
   "cell_type": "code",
   "execution_count": null,
   "metadata": {},
   "outputs": [],
   "source": []
  }
 ],
 "metadata": {
  "kernelspec": {
   "display_name": "Python 3 (ipykernel)",
   "language": "python",
   "name": "python3"
  },
  "language_info": {
   "codemirror_mode": {
    "name": "ipython",
    "version": 3
   },
   "file_extension": ".py",
   "mimetype": "text/x-python",
   "name": "python",
   "nbconvert_exporter": "python",
   "pygments_lexer": "ipython3",
   "version": "3.9.12"
  },
  "vscode": {
   "interpreter": {
    "hash": "107109ef1f3d2c1d8ef2422d7f3c7553b0305ed5b701a76fbc5bdcb10e21ee2d"
   }
  }
 },
 "nbformat": 4,
 "nbformat_minor": 2
}
